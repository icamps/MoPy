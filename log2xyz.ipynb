{
 "cells": [
  {
   "cell_type": "markdown",
   "metadata": {},
   "source": [
    "Add the keywords to the MOP file: AUX(6,COMP, XP, XS, XW)\n",
    "Run as mopac fname.mop > fname.log\n",
    "Change the \"fname_root\" accordingly\n",
    "If using AUX(5,COMP, XP, XS, XW), a file with the optimization steps will be created automatically with the name: fname_opt.aux"
   ]
  },
  {
   "cell_type": "code",
   "execution_count": 1,
   "metadata": {},
   "outputs": [],
   "source": [
    "def file_lengthy(fname):\n",
    "        with open(fname) as f:\n",
    "                for i, l in enumerate(f):\n",
    "                        pass\n",
    "        return i + 1"
   ]
  },
  {
   "cell_type": "code",
   "execution_count": 2,
   "metadata": {},
   "outputs": [],
   "source": [
    "fname_root = \"10x0_2u_10x\"\n",
    "fname_mop = fname_root + \".mop\"\n",
    "fname_log = fname_root + \".log\"\n",
    "fname_xyz = fname_root + \".xyz\"\n",
    "fname_dat = fname_root + \".dat\""
   ]
  },
  {
   "cell_type": "code",
   "execution_count": 3,
   "metadata": {},
   "outputs": [],
   "source": [
    "fh_mop = open(fname_mop,\"r\")\n",
    "all_lines_mop = fh_mop.readlines()\n",
    "\n",
    "count_atoms = file_lengthy(fname_mop) - 3\n",
    "atom_types = []\n",
    "for i in range(count_atoms):\n",
    "    atom_types.append(all_lines_mop[i + 3][:2])"
   ]
  },
  {
   "cell_type": "code",
   "execution_count": 4,
   "metadata": {},
   "outputs": [],
   "source": [
    "fh_log = open(fname_log,\"r\")\n",
    "all_lines_log = fh_log.readlines()\n",
    "count_log = file_lengthy(fname_log)\n",
    "num_step_opt = int(count_log / (count_atoms + 3))"
   ]
  },
  {
   "cell_type": "code",
   "execution_count": 5,
   "metadata": {},
   "outputs": [],
   "source": [
    "atom_types = []\n",
    "for i in range(count_atoms):\n",
    "    atom_types.append(all_lines_mop[i + 3][:2])\n",
    "\n",
    "    \n",
    "fh_xyz = open(fname_xyz,\"w\")\n",
    "fh_dat = open(fname_dat,\"w\")\n",
    "for steps in range(num_step_opt):\n",
    "    fh_xyz.write(str(count_atoms))\n",
    "    fh_xyz.write(\"\\n\")\n",
    "    energy_kcal_mol = all_lines_log[5  + steps * (count_atoms + 3)].partition(\"+\")[2].partition(\"\\n\")[0]\n",
    "    fh_dat.write(str(steps) + \"\\t\" + str(float(energy_kcal_mol.replace(\"D\", \"E\"))) + \"\\n\")\n",
    "    fh_xyz.write(\"Profile \" + str(steps + 1) + \" HEAT OF FORMATION =    \" + energy_kcal_mol)\n",
    "    fh_xyz.write(\"\\n\")\n",
    "    for x in range(count_atoms):\n",
    "        atom_coord = all_lines_log[8 + steps * (count_atoms + 3) + x]\n",
    "        fh_xyz.write(atom_types[x] + atom_coord)\n",
    "        \n",
    "fh_xyz.close()\n",
    "fh_dat.close()"
   ]
  },
  {
   "cell_type": "code",
   "execution_count": null,
   "metadata": {},
   "outputs": [],
   "source": []
  }
 ],
 "metadata": {
  "kernelspec": {
   "display_name": "Python 3",
   "language": "python",
   "name": "python3"
  },
  "language_info": {
   "codemirror_mode": {
    "name": "ipython",
    "version": 3
   },
   "file_extension": ".py",
   "mimetype": "text/x-python",
   "name": "python",
   "nbconvert_exporter": "python",
   "pygments_lexer": "ipython3",
   "version": "3.7.6"
  }
 },
 "nbformat": 4,
 "nbformat_minor": 4
}
